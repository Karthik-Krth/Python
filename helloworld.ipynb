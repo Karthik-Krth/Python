{
 "cells": [
  {
   "cell_type": "code",
   "execution_count": 2,
   "id": "65acf7cb-fa0f-4466-bca6-7166602a5c76",
   "metadata": {},
   "outputs": [
    {
     "name": "stdout",
     "output_type": "stream",
     "text": [
      "hello guys \n"
     ]
    }
   ],
   "source": [
    "print(\"hello guys \")"
   ]
  },
  {
   "cell_type": "code",
   "execution_count": 5,
   "id": "31baec02",
   "metadata": {},
   "outputs": [],
   "source": [
    "class Solution:\n",
    "    def twoSum(self, nums: list[int], target: int) -> list[int]:\n",
    "        for i in range(len(nums)):  # Outer loop to pick the first number\n",
    "            for j in range(i + 1, len(nums)):  # Inner loop to pick the second number\n",
    "                if nums[i] + nums[j] == target:  # Check if their sum equals the target\n",
    "                    return [i, j]  # Return the indices\n"
   ]
  },
  {
   "cell_type": "code",
   "execution_count": 3,
   "id": "48839f30-77e0-41a4-83f8-7ffb1924f48e",
   "metadata": {},
   "outputs": [
    {
     "name": "stdout",
     "output_type": "stream",
     "text": [
      "*\n",
      "**\n",
      "***\n",
      "****\n",
      "*****\n",
      "******\n"
     ]
    }
   ],
   "source": [
    "for i in range(1,7):\n",
    "    for j in range(1,i+1):\n",
    "        print(\"*\",end=\"\")\n",
    "    print(\"\")"
   ]
  },
  {
   "cell_type": "code",
   "execution_count": 2,
   "id": "61e6945a",
   "metadata": {},
   "outputs": [
    {
     "name": "stdout",
     "output_type": "stream",
     "text": [
      "15\n"
     ]
    }
   ],
   "source": [
    "print(int(eval(input(\"Enter the calculation : \"))))"
   ]
  }
 ],
 "metadata": {
  "kernelspec": {
   "display_name": "Python 3",
   "language": "python",
   "name": "python3"
  },
  "language_info": {
   "codemirror_mode": {
    "name": "ipython",
    "version": 3
   },
   "file_extension": ".py",
   "mimetype": "text/x-python",
   "name": "python",
   "nbconvert_exporter": "python",
   "pygments_lexer": "ipython3",
   "version": "3.13.0"
  }
 },
 "nbformat": 4,
 "nbformat_minor": 5
}
